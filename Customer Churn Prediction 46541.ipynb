{
 "cells": [
  {
   "cell_type": "code",
   "execution_count": null,
   "id": "7c2ee231",
   "metadata": {},
   "outputs": [],
   "source": [
    "\n",
    "import pandas as pd\n",
    "import numpy as np\n",
    "import seaborn as sns\n",
    "import matplotlib.pyplot as plt\n",
    "from sklearn.model_selection import train_test_split, GridSearchCV\n",
    "from sklearn.preprocessing import StandardScaler, LabelEncoder\n",
    "from sklearn.ensemble import RandomForestClassifier\n",
    "from sklearn.svm import SVC\n",
    "from sklearn.metrics import accuracy_score, classification_report, confusion_matrix\n",
    "import pickle\n"
   ]
  },
  {
   "cell_type": "code",
   "execution_count": null,
   "id": "c06a4c19",
   "metadata": {},
   "outputs": [],
   "source": [
    "#Load dataset (Replace with actual dataset path)\n",
    "df = pd.read_csv(\"customer_churn.csv\")\n",
    "\n",
    "# Data Preprocessing\n",
    "df.drop_duplicates(inplace=True)\n",
    "df.fillna(df.median(), inplace=True)\n",
    "\n",
    "# Encoding categorical variables\n",
    "encoder = LabelEncoder()\n",
    "categorical_columns = ['Gender', 'PaymentMethod', 'Contract']\n",
    "for col in categorical_columns:\n",
    "    df[col] = encoder.fit_transform(df[col])\n",
    "\n",
    "# Feature Scaling\n",
    "scaler = StandardScaler()\n",
    "numerical_columns = ['tenure', 'MonthlyCharges', 'TotalCharges']\n",
    "df[numerical_columns] = scaler.fit_transform(df[numerical_columns])\n",
    "\n",
    "# Splitting dataset\n",
    "X = df.drop('Churn', axis=1)  # Replace 'Churn' with actual target column\n",
    "y = df['Churn']\n",
    "X_train, X_test, y_train, y_test = train_test_split(X, y, test_size=0.2, random_state=42)\n"
   ]
  },
  {
   "cell_type": "code",
   "execution_count": null,
   "id": "d7cb58aa",
   "metadata": {},
   "outputs": [],
   "source": [
    "\n",
    "# Model Selection and Training\n",
    "model_rf = RandomForestClassifier()\n",
    "model_svm = SVC()\n",
    "model_rf.fit(X_train, y_train)\n",
    "model_svm.fit(X_train, y_train)\n"
   ]
  },
  {
   "cell_type": "code",
   "execution_count": null,
   "id": "bd00decb",
   "metadata": {},
   "outputs": [],
   "source": [
    "\n",
    "# Hyperparameter Tuning for Random Forest\n",
    "params = {'n_estimators': [100, 200], 'max_depth': [5, 10]}\n",
    "gs = GridSearchCV(RandomForestClassifier(), params, cv=5)\n",
    "gs.fit(X_train, y_train)\n",
    "print(\"Best Parameters:\", gs.best_params_)\n"
   ]
  },
  {
   "cell_type": "code",
   "execution_count": null,
   "id": "8f8bd9ae",
   "metadata": {},
   "outputs": [],
   "source": [
    "\n",
    "# Model Evaluation\n",
    "pred_rf = model_rf.predict(X_test)\n",
    "pred_svm = model_svm.predict(X_test)\n",
    "\n",
    "print(\"RandomForest Accuracy:\", accuracy_score(y_test, pred_rf))\n",
    "print(\"SVM Accuracy:\", accuracy_score(y_test, pred_svm))\n",
    "print(\"RandomForest Classification Report:\\n\", classification_report(y_test, pred_rf))\n"
   ]
  },
  {
   "cell_type": "code",
   "execution_count": null,
   "id": "f5c32d1d",
   "metadata": {},
   "outputs": [],
   "source": [
    "\n",
    "# Save the best model\n",
    "with open('best_model.pkl', 'wb') as f:\n",
    "    pickle.dump(model_rf, f)\n"
   ]
  },
  {
   "cell_type": "code",
   "execution_count": null,
   "id": "429ab792",
   "metadata": {},
   "outputs": [],
   "source": [
    "\n",
    "# Deployment using Streamlit\n",
    "import streamlit as st\n",
    "\n",
    "st.title(\"Customer Churn Prediction\")\n",
    "model = pickle.load(open('best_model.pkl', 'rb'))\n",
    "\n",
    "user_input = st.text_input(\"Enter input values (comma-separated):\")\n",
    "\n",
    "if st.button(\"Predict\"):\n",
    "    input_data = np.array([float(i) for i in user_input.split(',')]).reshape(1, -1)\n",
    "    prediction = model.predict(input_data)\n",
    "    st.write(\"Prediction:\", \"Churn\" if prediction[0] == 1 else \"No Churn\")\n"
   ]
  }
 ],
 "metadata": {
  "kernelspec": {
   "display_name": "base",
   "language": "python",
   "name": "python3"
  },
  "language_info": {
   "codemirror_mode": {
    "name": "ipython",
    "version": 3
   },
   "file_extension": ".py",
   "mimetype": "text/x-python",
   "name": "python",
   "nbconvert_exporter": "python",
   "pygments_lexer": "ipython3",
   "version": "3.12.7"
  }
 },
 "nbformat": 4,
 "nbformat_minor": 5
}
